{
 "cells": [
  {
   "cell_type": "markdown",
   "metadata": {},
   "source": [
    "\n",
    "# Introduction\n",
    "This is a Notebook that will be used as a proof of concept for Jupyter Notebooks within our environment and also for the\n",
    "Data Analytics team. These notebooks can be used as walkthroughs, or even just notebooks to test scripts out in an environment\n",
    "with a walkthrough procedure.\n",
    "## Versions:\n",
    "\n",
    "* V1: First initial draft of a walkthrough of the Pandas library"
   ]
  },
  {
   "cell_type": "markdown",
   "metadata": {},
   "source": [
    "## First Step: Import the Necessary libraries for Data Analysis\n",
    "In order for our python script to work for data analysis we need to import some of the modules needed to do this.\n",
    "The Anaconda distribution that we installed has already installed the modules needed, but we can always download some more\n",
    "in the future.\n",
    "\n",
    "\n",
    "__The following modules will need to be imported:__\n",
    "* pandas\n",
    "* numpy\n",
    "* matplotlib.pyplot\n",
    "\n",
    "\n",
    "In order to import a module, you must type in the following cell:\n",
    "\n"
   ]
  },
  {
   "cell_type": "code",
   "execution_count": 17,
   "metadata": {},
   "outputs": [],
   "source": [
    "#Import section\n",
    "import pandas as pd\n",
    "import numpy as np\n",
    "import matplotlib.pyplot as plt"
   ]
  },
  {
   "cell_type": "markdown",
   "metadata": {},
   "source": [
    "\n",
    "## Importing a Dataset\n",
    "\n",
    "Now that our modules have been imported, we need to now import our dataset into our notebook so we have some data to work with.\n",
    "We will be working with the 'employment.csv' file that was created with this notebook. This is a small CSV to work with so\n",
    "that the basics can be worked on.\n",
    "\n",
    "__There are a multitude of ways to read data into a Dataframe:__\n",
    "* read_csv()\n",
    "* read_sql_table()\n",
    "* read_json()\n",
    "\n",
    "The most commonly used one is read_csv, so this tutorial will be using it. In the cell below, I provided the Folder path of where\n",
    "my dataset is, and assigned it to the variable df (short for Dataframe)."
   ]
  },
  {
   "cell_type": "code",
   "execution_count": 18,
   "metadata": {},
   "outputs": [],
   "source": [
    "#Imports the Dataset\n",
    "df = pd.read_csv('C://Users//USPEREZAL//Desktop//End User Protection//Jupyter Notebooks//employment.csv')"
   ]
  },
  {
   "cell_type": "markdown",
   "metadata": {},
   "source": [
    "## Quicklook into our Dataframe\n",
    "\n",
    "Now that our Dataframe has been created, its a good procedure to see what our data looks like so we will print or display the Dataframe to see whats the data we're looking at.\n",
    "\n",
    "__Printing__ the dataframe will print out the dataframe, this is pretty good for a quick look\n",
    "__Displaying__ the dataframe makes the dataframe look nicer, and also will be useful for reports."
   ]
  },
  {
   "cell_type": "code",
   "execution_count": 19,
   "metadata": {},
   "outputs": [
    {
     "name": "stdout",
     "output_type": "stream",
     "text": [
      "    Name   Age       Occupation  Salary\n",
      "0    Ben  23.0          Trainee   32000\n",
      "1    Amy  30.0         Engineer   90000\n",
      "2    Tim   NaN  Project Manager  150000\n",
      "3  Sarah  37.0        Marketing   73000\n"
     ]
    }
   ],
   "source": [
    "#This will print the dataframe\n",
    "print(df)"
   ]
  },
  {
   "cell_type": "code",
   "execution_count": 20,
   "metadata": {},
   "outputs": [
    {
     "data": {
      "text/html": [
       "<div>\n",
       "<style scoped>\n",
       "    .dataframe tbody tr th:only-of-type {\n",
       "        vertical-align: middle;\n",
       "    }\n",
       "\n",
       "    .dataframe tbody tr th {\n",
       "        vertical-align: top;\n",
       "    }\n",
       "\n",
       "    .dataframe thead th {\n",
       "        text-align: right;\n",
       "    }\n",
       "</style>\n",
       "<table border=\"1\" class=\"dataframe\">\n",
       "  <thead>\n",
       "    <tr style=\"text-align: right;\">\n",
       "      <th></th>\n",
       "      <th>Name</th>\n",
       "      <th>Age</th>\n",
       "      <th>Occupation</th>\n",
       "      <th>Salary</th>\n",
       "    </tr>\n",
       "  </thead>\n",
       "  <tbody>\n",
       "    <tr>\n",
       "      <th>0</th>\n",
       "      <td>Ben</td>\n",
       "      <td>23.0</td>\n",
       "      <td>Trainee</td>\n",
       "      <td>32000</td>\n",
       "    </tr>\n",
       "    <tr>\n",
       "      <th>1</th>\n",
       "      <td>Amy</td>\n",
       "      <td>30.0</td>\n",
       "      <td>Engineer</td>\n",
       "      <td>90000</td>\n",
       "    </tr>\n",
       "    <tr>\n",
       "      <th>2</th>\n",
       "      <td>Tim</td>\n",
       "      <td>NaN</td>\n",
       "      <td>Project Manager</td>\n",
       "      <td>150000</td>\n",
       "    </tr>\n",
       "    <tr>\n",
       "      <th>3</th>\n",
       "      <td>Sarah</td>\n",
       "      <td>37.0</td>\n",
       "      <td>Marketing</td>\n",
       "      <td>73000</td>\n",
       "    </tr>\n",
       "  </tbody>\n",
       "</table>\n",
       "</div>"
      ],
      "text/plain": [
       "    Name   Age       Occupation  Salary\n",
       "0    Ben  23.0          Trainee   32000\n",
       "1    Amy  30.0         Engineer   90000\n",
       "2    Tim   NaN  Project Manager  150000\n",
       "3  Sarah  37.0        Marketing   73000"
      ]
     },
     "metadata": {},
     "output_type": "display_data"
    }
   ],
   "source": [
    "#This will display the dataframe\n",
    "display(df)"
   ]
  },
  {
   "cell_type": "markdown",
   "metadata": {},
   "source": [
    "## Summarizing the Data\n",
    "\n",
    "We have seen what our Dataframe looks like now. We have 4 columns:\n",
    "* Name\n",
    "* Age\n",
    "* Occupation\n",
    "* Salary\n",
    "\n",
    "We can see that the columns have values stored in them. We even have a __missing__ value! This is a pretty common occurence whe working with Datasets, but we will learn how to handle those later.\n",
    "\n",
    "We need to see what type of Datatypes we are working with, and also the overall size of our dataframe.\n",
    "\n",
    "To do this, we are going to use the __.info()__ command on our dataframe"
   ]
  },
  {
   "cell_type": "code",
   "execution_count": 23,
   "metadata": {},
   "outputs": [
    {
     "name": "stdout",
     "output_type": "stream",
     "text": [
      "<class 'pandas.core.frame.DataFrame'>\n",
      "RangeIndex: 4 entries, 0 to 3\n",
      "Data columns (total 4 columns):\n",
      "Name          4 non-null object\n",
      "Age           3 non-null float64\n",
      "Occupation    4 non-null object\n",
      "Salary        4 non-null int64\n",
      "dtypes: float64(1), int64(1), object(2)\n",
      "memory usage: 136.0+ bytes\n",
      "None\n"
     ]
    }
   ],
   "source": [
    "#Showing info on our dataframe\n",
    "print(df.info())"
   ]
  },
  {
   "cell_type": "markdown",
   "metadata": {},
   "source": [
    "With this command, we can now see a lot more information regarding our Dataframe. The info command is a great way to summarize alot of the information that you are working with and it will also let you know the datatypes for each column, the amount of missing values within your dataframe, the amount of memory usage, and etc."
   ]
  },
  {
   "cell_type": "markdown",
   "metadata": {},
   "source": [
    "## Handling Missing Data\n",
    "\n",
    "It is more than likely that in every dataset you work with, there will be missing values. It is nearly unavoidable. While this could lead to headaches, there are ways to clean/fix your dataset.\n",
    "\n",
    "If its a number column, you can take the mean of the column and have it fill out the blank column.\n",
    "\n",
    "You could remove the row as a whole if it makes it easier for your dataset to be cleaner, but then you may miss the whole picture.\n",
    "\n",
    "You could replace the missing values with a string like \"unknown\"."
   ]
  },
  {
   "cell_type": "code",
   "execution_count": null,
   "metadata": {},
   "outputs": [],
   "source": []
  }
 ],
 "metadata": {
  "file_extension": ".py",
  "kernelspec": {
   "display_name": "Python 3",
   "language": "python",
   "name": "python3"
  },
  "language_info": {
   "codemirror_mode": {
    "name": "ipython",
    "version": 3
   },
   "file_extension": ".py",
   "mimetype": "text/x-python",
   "name": "python",
   "nbconvert_exporter": "python",
   "pygments_lexer": "ipython3",
   "version": "3.7.3"
  },
  "mimetype": "text/x-python",
  "name": "python",
  "npconvert_exporter": "python",
  "pygments_lexer": "ipython3",
  "toc": {
   "base_numbering": 1,
   "nav_menu": {},
   "number_sections": true,
   "sideBar": true,
   "skip_h1_title": false,
   "title_cell": "Table of Contents",
   "title_sidebar": "Contents",
   "toc_cell": false,
   "toc_position": {},
   "toc_section_display": true,
   "toc_window_display": false
  },
  "version": 3
 },
 "nbformat": 4,
 "nbformat_minor": 2
}
