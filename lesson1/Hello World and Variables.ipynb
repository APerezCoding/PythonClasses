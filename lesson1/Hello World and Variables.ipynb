{
 "cells": [
  {
   "cell_type": "markdown",
   "metadata": {},
   "source": [
    "# Lesson 1: Hello World\n",
    "-------------------"
   ]
  },
  {
   "cell_type": "markdown",
   "metadata": {},
   "source": [
    "## Using Jupyter Notebooks\n",
    "Since this is an interactive Notebook, and this will be your first time using it, it is best to understand some the basic commands for these interactive Notebooks\n",
    "\n",
    "__In order to run a cell, you must click on the cell and use: *shift + enter* to run the Cell or click the run button up top in the menu__\n",
    "\n",
    "-------------------------------------------"
   ]
  },
  {
   "cell_type": "markdown",
   "metadata": {},
   "source": [
    "## __Printing in Python__\n",
    "\n",
    "As is custom, the very first statement you ever write in a program is always \"Hello World\". In Python3, to print something you must type like this:\n",
    "\n",
    "```python\n",
    "print(\"insert statement\")\n",
    "```\n",
    "\n",
    "Below is an example where it will print \"Hello Student\". Please note the parentheses, and the Quotations in the code.\n",
    "\n",
    "<div class=\"alert alert-block alert-warning\">\n",
    "<b> To run the Following Python line below, please select the Cell below and either click the run button above or use <i>Shift + Enter</i> to run the cell. </b>"
   ]
  },
  {
   "cell_type": "code",
   "execution_count": 1,
   "metadata": {},
   "outputs": [
    {
     "output_type": "stream",
     "name": "stdout",
     "text": [
      "Hello Student\n"
     ]
    }
   ],
   "source": [
    "print(\"Hello Student\")"
   ]
  },
  {
   "cell_type": "markdown",
   "metadata": {},
   "source": [
    "See? We have the output as \"Hello Student\"!\n",
    "\n",
    "Now you try it.\n",
    "\n",
    "<div class=\"alert alert-block alert-warning\">\n",
    "<b>In the Cell below, following the same format as the code above, have the code output \"Hello World\"</b>\n",
    "</div>"
   ]
  },
  {
   "cell_type": "code",
   "execution_count": null,
   "metadata": {},
   "outputs": [],
   "source": []
  },
  {
   "cell_type": "markdown",
   "metadata": {},
   "source": [
    "<div class=\"alert alert-block alert-success\">\n",
    "Congratulations! You have run your first Python code!\n",
    "</div>\n",
    "\n",
    "if you get an error, look for *__Syntax errors__* in your code or look at the example code to see if your's matches.\n",
    "\n",
    "__I recommend using the Cell above to practice writing different print statements to get a feel of it__\n",
    "\n",
    "------------------"
   ]
  },
  {
   "cell_type": "markdown",
   "metadata": {},
   "source": [
    "## Comments \n",
    "\n",
    "Comments are important in your programs. They can be used to tell you what a program does or mental notes for you to go back to later and they may also disable parts of your code if you need to temporarily prevent them from running\n",
    "> ```python\n",
    " # This is a Comment example\n",
    "```\n",
    "\n",
    "__In the Cell below, Here is an example as to how to have comments in your code:__\n",
    "\n",
    "<div class=\"alert alert-block alert-warning\">\n",
    "<b>Please try to play around in the Cell below so you can get practice in on it.\n",
    "\n",
    "Print lines you want to write, and comment lines out</b>\n",
    "</div>"
   ]
  },
  {
   "cell_type": "code",
   "execution_count": 26,
   "metadata": {},
   "outputs": [
    {
     "name": "stdout",
     "output_type": "stream",
     "text": [
      "This Runs because there is no comment block\n"
     ]
    }
   ],
   "source": [
    "# Here is an example line of code\n",
    "print(\"This line printed because there is no comment block\")\n",
    "\n",
    "# you can disable code by putting a hashtag on it\n",
    "# print(\"This runs...right?\")\n"
   ]
  },
  {
   "cell_type": "markdown",
   "metadata": {},
   "source": [
    "--------------"
   ]
  },
  {
   "cell_type": "markdown",
   "metadata": {},
   "source": [
    "## Variables and Math\n",
    "\n",
    "Every Programming language always involves a little bit of math, but lucky for us, we do not need to create complicated equations or anything. \n",
    "\n",
    "__The Following operators are used as follows:__\n",
    ">* __+__ : plus\n",
    ">* __-__ : minus\n",
    ">* __/__ : Divide\n",
    ">* __*__ : Multiply\n",
    ">* __%__ : percent\n",
    ">* __<__ : less-than\n",
    ">* __>__ : greater-than\n",
    ">* __<=__: less-than-equal\n",
    ">* __>=__: greater-than-equal\n",
    "\n",
    "\n",
    "__In the Cell below, there will be some examples of these operators put into action:__"
   ]
  },
  {
   "cell_type": "code",
   "execution_count": 27,
   "metadata": {},
   "outputs": [
    {
     "name": "stdout",
     "output_type": "stream",
     "text": [
      "2\n",
      "6\n",
      "True\n",
      "False\n"
     ]
    }
   ],
   "source": [
    "print(1 + 1)\n",
    "print(2 * 3)\n",
    "print(3 < 5)\n",
    "print(3 > 5)"
   ]
  },
  {
   "cell_type": "markdown",
   "metadata": {},
   "source": [
    "As can be seen above, Python evaluates these operations easily, and when running comparators like __greater-than__ or __less than__ it will always evaluate to either \"True\" or \"False\""
   ]
  },
  {
   "cell_type": "markdown",
   "metadata": {},
   "source": [
    "<div class=\"alert alert-block alert-info\">\n",
    "<b>Tip:</b> Use blue boxes (alert-info) for tips and notes. \n",
    "If it’s a note, you don’t have to include the word “Note”.\n",
    "</div>"
   ]
  },
  {
   "cell_type": "code",
   "execution_count": null,
   "metadata": {},
   "outputs": [],
   "source": []
  }
 ],
 "metadata": {
  "kernelspec": {
   "display_name": "Python 3",
   "language": "python",
   "name": "python3"
  },
  "language_info": {
   "codemirror_mode": {
    "name": "ipython",
    "version": 3
   },
   "file_extension": ".py",
   "mimetype": "text/x-python",
   "name": "python",
   "nbconvert_exporter": "python",
   "pygments_lexer": "ipython3",
   "version": "3.7.3-final"
  },
  "toc": {
   "base_numbering": 1,
   "nav_menu": {},
   "number_sections": false,
   "sideBar": true,
   "skip_h1_title": false,
   "title_cell": "Table of Contents",
   "title_sidebar": "Contents",
   "toc_cell": false,
   "toc_position": {
    "height": "calc(100% - 180px)",
    "left": "10px",
    "top": "150px",
    "width": "229.531px"
   },
   "toc_section_display": true,
   "toc_window_display": true
  }
 },
 "nbformat": 4,
 "nbformat_minor": 2
}